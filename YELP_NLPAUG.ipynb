{
  "nbformat": 4,
  "nbformat_minor": 0,
  "metadata": {
    "colab": {
      "name": "YELP_NLPAUG.ipynb",
      "provenance": [],
      "collapsed_sections": [],
      "authorship_tag": "ABX9TyNlP6atAe/E250VPOlTtbr0",
      "include_colab_link": true
    },
    "kernelspec": {
      "name": "python3",
      "display_name": "Python 3"
    },
    "language_info": {
      "name": "python"
    }
  },
  "cells": [
    {
      "cell_type": "markdown",
      "metadata": {
        "id": "view-in-github",
        "colab_type": "text"
      },
      "source": [
        "<a href=\"https://colab.research.google.com/github/rajlm10/NLPAUG_Usage/blob/main/YELP_NLPAUG.ipynb\" target=\"_parent\"><img src=\"https://colab.research.google.com/assets/colab-badge.svg\" alt=\"Open In Colab\"/></a>"
      ]
    },
    {
      "cell_type": "code",
      "metadata": {
        "colab": {
          "base_uri": "https://localhost:8080/"
        },
        "id": "Js3_DJlWzBmS",
        "outputId": "97d33ef5-27e5-4489-f9af-4d3047217e86"
      },
      "source": [
        "pip install nlpaug"
      ],
      "execution_count": null,
      "outputs": [
        {
          "output_type": "stream",
          "text": [
            "Requirement already satisfied: nlpaug in /usr/local/lib/python3.7/dist-packages (1.1.3)\n"
          ],
          "name": "stdout"
        }
      ]
    },
    {
      "cell_type": "code",
      "metadata": {
        "colab": {
          "base_uri": "https://localhost:8080/"
        },
        "id": "TDm698TTDWPG",
        "outputId": "3cd07460-124b-435b-a07e-17faba3d8e69"
      },
      "source": [
        "import numpy as np\n",
        "import pandas as pd \n",
        "import matplotlib.pyplot as plt\n",
        "import seaborn as sns\n",
        "\n",
        "import warnings\n",
        "warnings.filterwarnings(\"ignore\")\n",
        "\n",
        "import re\n",
        "from bs4 import BeautifulSoup\n",
        "from tqdm import tqdm\n",
        "from nltk.stem import WordNetLemmatizer\n",
        "import nltk\n",
        "from nltk.corpus import stopwords\n",
        "nltk.download('wordnet')\n",
        "nltk.download('stopwords')\n",
        "import re\n",
        "from nltk.stem import PorterStemmer\n",
        "from nltk.tokenize import TweetTokenizer\n",
        "import string\n",
        "\n",
        "from sklearn.model_selection import train_test_split\n",
        "from sklearn.metrics import accuracy_score,f1_score, confusion_matrix\n",
        "\n",
        "import nlpaug.augmenter.char as nac\n",
        "import nlpaug.augmenter.word as naw\n",
        "import nlpaug.augmenter.sentence as nas\n",
        "import nlpaug.flow as nafc\n",
        "\n",
        "from nlpaug.util import Action"
      ],
      "execution_count": null,
      "outputs": [
        {
          "output_type": "stream",
          "text": [
            "[nltk_data] Downloading package wordnet to /root/nltk_data...\n",
            "[nltk_data]   Package wordnet is already up-to-date!\n",
            "[nltk_data] Downloading package stopwords to /root/nltk_data...\n",
            "[nltk_data]   Package stopwords is already up-to-date!\n"
          ],
          "name": "stdout"
        }
      ]
    },
    {
      "cell_type": "code",
      "metadata": {
        "id": "IJEjwpmNzYm4"
      },
      "source": [
        "data=pd.read_csv(\"ratings_and_sentiments.csv\",encoding= 'unicode_escape')"
      ],
      "execution_count": null,
      "outputs": []
    },
    {
      "cell_type": "code",
      "metadata": {
        "colab": {
          "base_uri": "https://localhost:8080/",
          "height": 479
        },
        "id": "8FWiDdu5z053",
        "outputId": "9d00307b-40d1-485a-caa7-9eb7b334441e"
      },
      "source": [
        "data.head()"
      ],
      "execution_count": null,
      "outputs": [
        {
          "output_type": "execute_result",
          "data": {
            "text/html": [
              "<div>\n",
              "<style scoped>\n",
              "    .dataframe tbody tr th:only-of-type {\n",
              "        vertical-align: middle;\n",
              "    }\n",
              "\n",
              "    .dataframe tbody tr th {\n",
              "        vertical-align: top;\n",
              "    }\n",
              "\n",
              "    .dataframe thead th {\n",
              "        text-align: right;\n",
              "    }\n",
              "</style>\n",
              "<table border=\"1\" class=\"dataframe\">\n",
              "  <thead>\n",
              "    <tr style=\"text-align: right;\">\n",
              "      <th></th>\n",
              "      <th>coffee_shop_name</th>\n",
              "      <th>review_text</th>\n",
              "      <th>rating</th>\n",
              "      <th>num_rating</th>\n",
              "      <th>cat_rating</th>\n",
              "      <th>bool_HIGH</th>\n",
              "      <th>overall_sent</th>\n",
              "      <th>vibe_sent</th>\n",
              "      <th>tea_sent</th>\n",
              "      <th>service_sent</th>\n",
              "      <th>seating_sent</th>\n",
              "      <th>price_sent</th>\n",
              "      <th>parking_sent</th>\n",
              "      <th>location_sent</th>\n",
              "      <th>alcohol_sent</th>\n",
              "      <th>coffee_sent</th>\n",
              "      <th>food_sent</th>\n",
              "      <th>hours_sent</th>\n",
              "      <th>internet_sent</th>\n",
              "      <th>local_sent</th>\n",
              "    </tr>\n",
              "  </thead>\n",
              "  <tbody>\n",
              "    <tr>\n",
              "      <th>0</th>\n",
              "      <td>The Factory - Cafe With a Soul</td>\n",
              "      <td>11/25/2016 1 check-in Love love loved the vib...</td>\n",
              "      <td>5.0 star rating</td>\n",
              "      <td>5.0</td>\n",
              "      <td>HIGH</td>\n",
              "      <td>1.0</td>\n",
              "      <td>4.0</td>\n",
              "      <td>3</td>\n",
              "      <td>0.0</td>\n",
              "      <td>0.0</td>\n",
              "      <td>0.0</td>\n",
              "      <td>0.0</td>\n",
              "      <td>0</td>\n",
              "      <td>0.0</td>\n",
              "      <td>1.0</td>\n",
              "      <td>3</td>\n",
              "      <td>0</td>\n",
              "      <td>0.0</td>\n",
              "      <td>0.0</td>\n",
              "      <td>0.0</td>\n",
              "    </tr>\n",
              "    <tr>\n",
              "      <th>1</th>\n",
              "      <td>The Factory - Cafe With a Soul</td>\n",
              "      <td>12/2/2016 Listed in Date Night: Austin, vibe ...</td>\n",
              "      <td>4.0 star rating</td>\n",
              "      <td>4.0</td>\n",
              "      <td>HIGH</td>\n",
              "      <td>1.0</td>\n",
              "      <td>3.0</td>\n",
              "      <td>3</td>\n",
              "      <td>0.0</td>\n",
              "      <td>0.0</td>\n",
              "      <td>0.0</td>\n",
              "      <td>0.0</td>\n",
              "      <td>0</td>\n",
              "      <td>0.0</td>\n",
              "      <td>0.0</td>\n",
              "      <td>0</td>\n",
              "      <td>2</td>\n",
              "      <td>0.0</td>\n",
              "      <td>0.0</td>\n",
              "      <td>0.0</td>\n",
              "    </tr>\n",
              "    <tr>\n",
              "      <th>2</th>\n",
              "      <td>The Factory - Cafe With a Soul</td>\n",
              "      <td>11/30/2016 1 check-in Listed in food seating ...</td>\n",
              "      <td>4.0 star rating</td>\n",
              "      <td>4.0</td>\n",
              "      <td>HIGH</td>\n",
              "      <td>1.0</td>\n",
              "      <td>2.0</td>\n",
              "      <td>2</td>\n",
              "      <td>0.0</td>\n",
              "      <td>0.0</td>\n",
              "      <td>3.0</td>\n",
              "      <td>0.0</td>\n",
              "      <td>0</td>\n",
              "      <td>0.0</td>\n",
              "      <td>0.0</td>\n",
              "      <td>-1</td>\n",
              "      <td>2</td>\n",
              "      <td>0.0</td>\n",
              "      <td>0.0</td>\n",
              "      <td>0.0</td>\n",
              "    </tr>\n",
              "    <tr>\n",
              "      <th>3</th>\n",
              "      <td>The Factory - Cafe With a Soul</td>\n",
              "      <td>11/25/2016 Very cool vibe! Good drinks Nice s...</td>\n",
              "      <td>2.0 star rating</td>\n",
              "      <td>2.0</td>\n",
              "      <td>LOW</td>\n",
              "      <td>0.0</td>\n",
              "      <td>1.0</td>\n",
              "      <td>0</td>\n",
              "      <td>0.0</td>\n",
              "      <td>0.0</td>\n",
              "      <td>-1.0</td>\n",
              "      <td>-1.0</td>\n",
              "      <td>0</td>\n",
              "      <td>0.0</td>\n",
              "      <td>0.0</td>\n",
              "      <td>0</td>\n",
              "      <td>0</td>\n",
              "      <td>0.0</td>\n",
              "      <td>0.0</td>\n",
              "      <td>0.0</td>\n",
              "    </tr>\n",
              "    <tr>\n",
              "      <th>4</th>\n",
              "      <td>The Factory - Cafe With a Soul</td>\n",
              "      <td>12/3/2016 1 check-in They are location within...</td>\n",
              "      <td>4.0 star rating</td>\n",
              "      <td>4.0</td>\n",
              "      <td>HIGH</td>\n",
              "      <td>1.0</td>\n",
              "      <td>2.0</td>\n",
              "      <td>0</td>\n",
              "      <td>0.0</td>\n",
              "      <td>0.0</td>\n",
              "      <td>0.0</td>\n",
              "      <td>0.0</td>\n",
              "      <td>3</td>\n",
              "      <td>0.0</td>\n",
              "      <td>0.0</td>\n",
              "      <td>0</td>\n",
              "      <td>0</td>\n",
              "      <td>0.0</td>\n",
              "      <td>0.0</td>\n",
              "      <td>0.0</td>\n",
              "    </tr>\n",
              "  </tbody>\n",
              "</table>\n",
              "</div>"
            ],
            "text/plain": [
              "                  coffee_shop_name  ... local_sent\n",
              "0  The Factory - Cafe With a Soul   ...        0.0\n",
              "1  The Factory - Cafe With a Soul   ...        0.0\n",
              "2  The Factory - Cafe With a Soul   ...        0.0\n",
              "3  The Factory - Cafe With a Soul   ...        0.0\n",
              "4  The Factory - Cafe With a Soul   ...        0.0\n",
              "\n",
              "[5 rows x 20 columns]"
            ]
          },
          "metadata": {
            "tags": []
          },
          "execution_count": 4
        }
      ]
    },
    {
      "cell_type": "code",
      "metadata": {
        "colab": {
          "base_uri": "https://localhost:8080/",
          "height": 204
        },
        "id": "FjKpCARg0IoN",
        "outputId": "7323529e-fd43-4f51-db6a-11e3ffe4a8f5"
      },
      "source": [
        "data=data[['review_text','num_rating']]\n",
        "data.head()"
      ],
      "execution_count": null,
      "outputs": [
        {
          "output_type": "execute_result",
          "data": {
            "text/html": [
              "<div>\n",
              "<style scoped>\n",
              "    .dataframe tbody tr th:only-of-type {\n",
              "        vertical-align: middle;\n",
              "    }\n",
              "\n",
              "    .dataframe tbody tr th {\n",
              "        vertical-align: top;\n",
              "    }\n",
              "\n",
              "    .dataframe thead th {\n",
              "        text-align: right;\n",
              "    }\n",
              "</style>\n",
              "<table border=\"1\" class=\"dataframe\">\n",
              "  <thead>\n",
              "    <tr style=\"text-align: right;\">\n",
              "      <th></th>\n",
              "      <th>review_text</th>\n",
              "      <th>num_rating</th>\n",
              "    </tr>\n",
              "  </thead>\n",
              "  <tbody>\n",
              "    <tr>\n",
              "      <th>0</th>\n",
              "      <td>11/25/2016 1 check-in Love love loved the vib...</td>\n",
              "      <td>5.0</td>\n",
              "    </tr>\n",
              "    <tr>\n",
              "      <th>1</th>\n",
              "      <td>12/2/2016 Listed in Date Night: Austin, vibe ...</td>\n",
              "      <td>4.0</td>\n",
              "    </tr>\n",
              "    <tr>\n",
              "      <th>2</th>\n",
              "      <td>11/30/2016 1 check-in Listed in food seating ...</td>\n",
              "      <td>4.0</td>\n",
              "    </tr>\n",
              "    <tr>\n",
              "      <th>3</th>\n",
              "      <td>11/25/2016 Very cool vibe! Good drinks Nice s...</td>\n",
              "      <td>2.0</td>\n",
              "    </tr>\n",
              "    <tr>\n",
              "      <th>4</th>\n",
              "      <td>12/3/2016 1 check-in They are location within...</td>\n",
              "      <td>4.0</td>\n",
              "    </tr>\n",
              "  </tbody>\n",
              "</table>\n",
              "</div>"
            ],
            "text/plain": [
              "                                         review_text  num_rating\n",
              "0   11/25/2016 1 check-in Love love loved the vib...         5.0\n",
              "1   12/2/2016 Listed in Date Night: Austin, vibe ...         4.0\n",
              "2   11/30/2016 1 check-in Listed in food seating ...         4.0\n",
              "3   11/25/2016 Very cool vibe! Good drinks Nice s...         2.0\n",
              "4   12/3/2016 1 check-in They are location within...         4.0"
            ]
          },
          "metadata": {
            "tags": []
          },
          "execution_count": 5
        }
      ]
    },
    {
      "cell_type": "code",
      "metadata": {
        "colab": {
          "base_uri": "https://localhost:8080/",
          "height": 52
        },
        "id": "TMt2LPTq0ei8",
        "outputId": "bb2ec0f2-c5d6-409d-e085-e481dce54c8f"
      },
      "source": [
        "data['review_text'].loc[1]"
      ],
      "execution_count": null,
      "outputs": [
        {
          "output_type": "execute_result",
          "data": {
            "application/vnd.google.colaboratory.intrinsic+json": {
              "type": "string"
            },
            "text/plain": [
              "' 12/2/2016 Listed in Date Night: Austin, vibe in Austin BEAUTIFUL!!!! Love the vibe! Instagram-worthy!!!  Definitely $$$, so be prepared. This is gonna cost you a pretty penny :) food food was just decent...nothing to rave about.  But, will probably be back just to be somewhere unique and nice. '"
            ]
          },
          "metadata": {
            "tags": []
          },
          "execution_count": 6
        }
      ]
    },
    {
      "cell_type": "code",
      "metadata": {
        "id": "stxS1JJX0mJm"
      },
      "source": [
        "def decontract(text):\n",
        "    text = re.sub(r\"won\\'t\", \"will not\", text)\n",
        "    text = re.sub(r\"can\\'t\", \"can not\", text)\n",
        "    text = re.sub(r\"n\\'t\", \" not\", text)\n",
        "    text = re.sub(r\"\\'re\", \" are\", text)\n",
        "    text = re.sub(r\"\\'s\", \" is\", text)\n",
        "    text = re.sub(r\"\\'d\", \" would\", text)\n",
        "    text = re.sub(r\"\\'ll\", \" will\", text)\n",
        "    text = re.sub(r\"\\'t\", \" not\", text)\n",
        "    text = re.sub(r\"\\'ve\", \" have\", text)\n",
        "    text = re.sub(r\"\\'m\", \" am\", text)\n",
        "    return text\n",
        "lemmatizer = WordNetLemmatizer()\n"
      ],
      "execution_count": null,
      "outputs": []
    },
    {
      "cell_type": "code",
      "metadata": {
        "id": "05u4d2f71oTZ"
      },
      "source": [
        "def process_tweet(tweet):\n",
        "    \"\"\"Process tweet function.\n",
        "    Input:\n",
        "        tweet: a string containing a tweet\n",
        "    Output:\n",
        "        tweets_clean: a list of words containing the processed tweet\n",
        "    \"\"\"\n",
        "    stemmer = PorterStemmer()\n",
        "    stopwords_english = stopwords.words('english')\n",
        "    # remove stock market tickers like $GE\n",
        "    tweet = re.sub(r'\\$\\w*', '', tweet)\n",
        "    # remove old style retweet text \"RT\"\n",
        "    tweet = re.sub(r'^RT[\\s]+', '', tweet)\n",
        "    # remove hyperlinks\n",
        "    tweet = re.sub(r'https?:\\/\\/.*[\\r\\n]*', '', tweet)\n",
        "    # remove hashtags\n",
        "    # only removing the hash # sign from the word\n",
        "    tweet = re.sub(r'#', '', tweet)\n",
        "    tweet = str(re.sub(\"\\S*\\d\\S*\", \"\", tweet).strip()) \n",
        "    tweet=decontract(tweet)\n",
        "    # tokenize tweets\n",
        "    tokenizer = TweetTokenizer(preserve_case=False, strip_handles=True,\n",
        "                               reduce_len=True)\n",
        "    tweet_tokens = tokenizer.tokenize(tweet)\n",
        "\n",
        "    tweets_clean = []\n",
        "    for word in tweet_tokens:\n",
        "        if (word not in stopwords_english and  # remove stopwords\n",
        "                word not in string.punctuation+'...'):  # remove punctuation\n",
        "            # tweets_clean.append(word)\n",
        "            stem_word = lemmatizer.lemmatize(word,\"v\")  # stemming word\n",
        "            tweets_clean.append(stem_word)\n",
        "\n",
        "    return \" \".join(tweets_clean)"
      ],
      "execution_count": null,
      "outputs": []
    },
    {
      "cell_type": "code",
      "metadata": {
        "colab": {
          "base_uri": "https://localhost:8080/",
          "height": 52
        },
        "id": "NBwtn5a81s9_",
        "outputId": "04334fde-e3d5-4d52-f7e2-4389fb56a12b"
      },
      "source": [
        "process_tweet(data['review_text'].loc[1])"
      ],
      "execution_count": null,
      "outputs": [
        {
          "output_type": "execute_result",
          "data": {
            "application/vnd.google.colaboratory.intrinsic+json": {
              "type": "string"
            },
            "text/plain": [
              "'list date night austin vibe austin beautiful love vibe instagram-worthy definitely prepare gonna cost pretty penny :) food food decent nothing rave probably back somewhere unique nice'"
            ]
          },
          "metadata": {
            "tags": []
          },
          "execution_count": 9
        }
      ]
    },
    {
      "cell_type": "code",
      "metadata": {
        "id": "ajafEhsf3huD"
      },
      "source": [
        "data['review_text']=data['review_text'].apply(lambda x: process_tweet(str(x)))"
      ],
      "execution_count": null,
      "outputs": []
    },
    {
      "cell_type": "code",
      "metadata": {
        "colab": {
          "base_uri": "https://localhost:8080/",
          "height": 204
        },
        "id": "U5ud7n9d30bS",
        "outputId": "c4da128c-b37a-46bc-e876-1be6f955c67e"
      },
      "source": [
        "data=data.loc[(data['num_rating']>3) | (data['num_rating']<3)]\n",
        "data['num_rating']=data['num_rating'].apply(lambda x: 1 if (x>3)  else 0)\n",
        "data=data.reset_index()\n",
        "data=data[['review_text','num_rating']]\n",
        "data.head()"
      ],
      "execution_count": null,
      "outputs": [
        {
          "output_type": "execute_result",
          "data": {
            "text/html": [
              "<div>\n",
              "<style scoped>\n",
              "    .dataframe tbody tr th:only-of-type {\n",
              "        vertical-align: middle;\n",
              "    }\n",
              "\n",
              "    .dataframe tbody tr th {\n",
              "        vertical-align: top;\n",
              "    }\n",
              "\n",
              "    .dataframe thead th {\n",
              "        text-align: right;\n",
              "    }\n",
              "</style>\n",
              "<table border=\"1\" class=\"dataframe\">\n",
              "  <thead>\n",
              "    <tr style=\"text-align: right;\">\n",
              "      <th></th>\n",
              "      <th>review_text</th>\n",
              "      <th>num_rating</th>\n",
              "    </tr>\n",
              "  </thead>\n",
              "  <tbody>\n",
              "    <tr>\n",
              "      <th>0</th>\n",
              "      <td>check-in love love love vibe every corner coff...</td>\n",
              "      <td>1</td>\n",
              "    </tr>\n",
              "    <tr>\n",
              "      <th>1</th>\n",
              "      <td>list date night austin vibe austin beautiful l...</td>\n",
              "      <td>1</td>\n",
              "    </tr>\n",
              "    <tr>\n",
              "      <th>2</th>\n",
              "      <td>check-in list food seat love eclectic homey pl...</td>\n",
              "      <td>1</td>\n",
              "    </tr>\n",
              "    <tr>\n",
              "      <th>3</th>\n",
              "      <td>cool vibe good drink nice seat however everyth...</td>\n",
              "      <td>0</td>\n",
              "    </tr>\n",
              "    <tr>\n",
              "      <th>4</th>\n",
              "      <td>check-in location within northcross mall shop ...</td>\n",
              "      <td>1</td>\n",
              "    </tr>\n",
              "  </tbody>\n",
              "</table>\n",
              "</div>"
            ],
            "text/plain": [
              "                                         review_text  num_rating\n",
              "0  check-in love love love vibe every corner coff...           1\n",
              "1  list date night austin vibe austin beautiful l...           1\n",
              "2  check-in list food seat love eclectic homey pl...           1\n",
              "3  cool vibe good drink nice seat however everyth...           0\n",
              "4  check-in location within northcross mall shop ...           1"
            ]
          },
          "metadata": {
            "tags": []
          },
          "execution_count": 11
        }
      ]
    },
    {
      "cell_type": "code",
      "metadata": {
        "colab": {
          "base_uri": "https://localhost:8080/"
        },
        "id": "lf4qhHj66Dgv",
        "outputId": "753f7857-91fd-4b22-9913-7ef524ee289a"
      },
      "source": [
        "data.info()"
      ],
      "execution_count": null,
      "outputs": [
        {
          "output_type": "stream",
          "text": [
            "<class 'pandas.core.frame.DataFrame'>\n",
            "RangeIndex: 6878 entries, 0 to 6877\n",
            "Data columns (total 2 columns):\n",
            " #   Column       Non-Null Count  Dtype \n",
            "---  ------       --------------  ----- \n",
            " 0   review_text  6878 non-null   object\n",
            " 1   num_rating   6878 non-null   int64 \n",
            "dtypes: int64(1), object(1)\n",
            "memory usage: 107.6+ KB\n"
          ],
          "name": "stdout"
        }
      ]
    },
    {
      "cell_type": "code",
      "metadata": {
        "colab": {
          "base_uri": "https://localhost:8080/",
          "height": 606
        },
        "id": "4V3_gSLZ6XZJ",
        "outputId": "5781d02e-20db-4830-f3db-d2c8141ac2e7"
      },
      "source": [
        "plt.figure(figsize=(10,10))\n",
        "sns.countplot(data['num_rating']);\n",
        "plt.xlabel(\"Sentiment\");\n"
      ],
      "execution_count": null,
      "outputs": [
        {
          "output_type": "display_data",
          "data": {
            "image/png": "[encoded data removed]",
            "text/plain": [
              "<Figure size 720x720 with 1 Axes>"
            ]
          },
          "metadata": {
            "tags": [],
            "needs_background": "light"
          }
        }
      ]
    },
    {
      "cell_type": "code",
      "metadata": {
        "id": "BUJE87F279Pa"
      },
      "source": [
        "X_train, X_test, y_train, y_test = train_test_split(data['review_text'], data['num_rating'], test_size=0.2,random_state=42)\n"
      ],
      "execution_count": null,
      "outputs": []
    },
    {
      "cell_type": "code",
      "metadata": {
        "id": "5yMecwab7jJO"
      },
      "source": [
        "from sklearn.feature_extraction.text import TfidfVectorizer\n",
        "from sklearn.feature_selection import SelectKBest, chi2,f_classif, mutual_info_classif\n",
        "\n",
        "\n",
        "vectorizer = TfidfVectorizer(min_df=3,analyzer='word',max_features=3000)\n",
        "X_train_vectorized = vectorizer.fit_transform(X_train)\n",
        "X_test_vectorized=vectorizer.transform(X_test)"
      ],
      "execution_count": null,
      "outputs": []
    },
    {
      "cell_type": "code",
      "metadata": {
        "colab": {
          "base_uri": "https://localhost:8080/"
        },
        "id": "F9RXek3896Eq",
        "outputId": "00776a77-ecb0-4279-d0b8-71488bb3803b"
      },
      "source": [
        "from sklearn.ensemble import RandomForestClassifier\n",
        "\n",
        "rf=RandomForestClassifier(n_estimators=10)\n",
        "\n",
        "rf.fit(X_train_vectorized,y_train)\n",
        "\n",
        "\n"
      ],
      "execution_count": null,
      "outputs": [
        {
          "output_type": "execute_result",
          "data": {
            "text/plain": [
              "RandomForestClassifier(bootstrap=True, ccp_alpha=0.0, class_weight=None,\n",
              "                       criterion='gini', max_depth=None, max_features='auto',\n",
              "                       max_leaf_nodes=None, max_samples=None,\n",
              "                       min_impurity_decrease=0.0, min_impurity_split=None,\n",
              "                       min_samples_leaf=1, min_samples_split=2,\n",
              "                       min_weight_fraction_leaf=0.0, n_estimators=10,\n",
              "                       n_jobs=None, oob_score=False, random_state=None,\n",
              "                       verbose=0, warm_start=False)"
            ]
          },
          "metadata": {
            "tags": []
          },
          "execution_count": 16
        }
      ]
    },
    {
      "cell_type": "code",
      "metadata": {
        "colab": {
          "base_uri": "https://localhost:8080/"
        },
        "id": "v2YVPQ2Y-l9Z",
        "outputId": "571264ed-6f33-43ba-a255-7697fc1b8d07"
      },
      "source": [
        "from sklearn.metrics import classification_report, confusion_matrix, accuracy_score\n",
        "\n",
        "y_train_pred=rf.predict(X_train_vectorized)\n",
        "\n",
        "\n",
        "print(confusion_matrix(y_train,y_train_pred))\n",
        "print(classification_report(y_train,y_train_pred))\n",
        "print(accuracy_score(y_train, y_train_pred))"
      ],
      "execution_count": null,
      "outputs": [
        {
          "output_type": "stream",
          "text": [
            "[[ 575   12]\n",
            " [   1 4914]]\n",
            "              precision    recall  f1-score   support\n",
            "\n",
            "           0       1.00      0.98      0.99       587\n",
            "           1       1.00      1.00      1.00      4915\n",
            "\n",
            "    accuracy                           1.00      5502\n",
            "   macro avg       1.00      0.99      0.99      5502\n",
            "weighted avg       1.00      1.00      1.00      5502\n",
            "\n",
            "0.9976372228280626\n"
          ],
          "name": "stdout"
        }
      ]
    },
    {
      "cell_type": "code",
      "metadata": {
        "colab": {
          "base_uri": "https://localhost:8080/"
        },
        "id": "YQJzVSl0-tXv",
        "outputId": "fcc42d55-1d6d-4c7c-cc3a-496b491d314e"
      },
      "source": [
        "y_pred=rf.predict(X_test_vectorized)\n",
        "print(confusion_matrix(y_test,y_pred))\n",
        "print(classification_report(y_test,y_pred))\n",
        "print(accuracy_score(y_test, y_pred))"
      ],
      "execution_count": null,
      "outputs": [
        {
          "output_type": "stream",
          "text": [
            "[[  44  107]\n",
            " [   7 1218]]\n",
            "              precision    recall  f1-score   support\n",
            "\n",
            "           0       0.86      0.29      0.44       151\n",
            "           1       0.92      0.99      0.96      1225\n",
            "\n",
            "    accuracy                           0.92      1376\n",
            "   macro avg       0.89      0.64      0.70      1376\n",
            "weighted avg       0.91      0.92      0.90      1376\n",
            "\n",
            "0.9171511627906976\n"
          ],
          "name": "stdout"
        }
      ]
    },
    {
      "cell_type": "code",
      "metadata": {
        "colab": {
          "base_uri": "https://localhost:8080/",
          "height": 606
        },
        "id": "4A6qN8BtJ0Ne",
        "outputId": "961cd690-2057-4ece-a861-416448ee5996"
      },
      "source": [
        "from sklearn.metrics import roc_curve\n",
        "\n",
        "# roc curve for models\n",
        "fpr, tpr, thresh = roc_curve(y_test, rf.predict_proba(X_test_vectorized)[:, 1], pos_label=1)\n",
        "# roc curve for tpr = fpr \n",
        "random_probs = [0 for i in range(len(y_test))]\n",
        "p_fpr, p_tpr, _ = roc_curve(y_test, random_probs, pos_label=1)\n",
        "plt.figure(figsize=(12,10))\n",
        "sns.lineplot(x=fpr,y=tpr,);\n",
        "\n",
        "plt.xlabel(\"False Positive Rate\");\n",
        "plt.ylabel(\"Sensitivity (TPR)\");\n"
      ],
      "execution_count": null,
      "outputs": [
        {
          "output_type": "display_data",
          "data": {
            "image/png": "[encoded data removed]",
            "text/plain": [
              "<Figure size 864x720 with 1 Axes>"
            ]
          },
          "metadata": {
            "tags": [],
            "needs_background": "light"
          }
        }
      ]
    },
    {
      "cell_type": "code",
      "metadata": {
        "colab": {
          "base_uri": "https://localhost:8080/"
        },
        "id": "jIm0WuZt_BmY",
        "outputId": "45da264c-4ab9-4809-ea2c-22840fa42327"
      },
      "source": [
        "from sklearn.metrics import roc_auc_score\n",
        "roc_auc_score(y_test, rf.predict_proba(X_test_vectorized)[:, 1])"
      ],
      "execution_count": null,
      "outputs": [
        {
          "output_type": "execute_result",
          "data": {
            "text/plain": [
              "0.8523611298824165"
            ]
          },
          "metadata": {
            "tags": []
          },
          "execution_count": 20
        }
      ]
    },
    {
      "cell_type": "code",
      "metadata": {
        "id": "ldmqP60oD9EK"
      },
      "source": [
        ""
      ],
      "execution_count": null,
      "outputs": []
    },
    {
      "cell_type": "code",
      "metadata": {
        "id": "k_8DZsKGGZpl"
      },
      "source": [
        "#pip install transformers\n"
      ],
      "execution_count": null,
      "outputs": []
    },
    {
      "cell_type": "code",
      "metadata": {
        "id": "Ifx44PrY_XoJ"
      },
      "source": [
        "aug = naw.SynonymAug(aug_src='wordnet',aug_max=3)\n",
        "#aug = naw.ContextualWordEmbsAug(model_path='bert-base-uncased', action=\"substitute\",aug_max=3,temperature=0.5)"
      ],
      "execution_count": null,
      "outputs": []
    },
    {
      "cell_type": "code",
      "metadata": {
        "colab": {
          "base_uri": "https://localhost:8080/"
        },
        "id": "K5JxMYYTAPdw",
        "outputId": "2c895d94-d4c0-4d92-c392-d6eed896f72a"
      },
      "source": [
        "y_train"
      ],
      "execution_count": null,
      "outputs": [
        {
          "output_type": "execute_result",
          "data": {
            "text/plain": [
              "969     1\n",
              "6423    1\n",
              "5771    0\n",
              "1407    1\n",
              "3887    1\n",
              "       ..\n",
              "3772    1\n",
              "5191    0\n",
              "5226    1\n",
              "5390    0\n",
              "860     1\n",
              "Name: num_rating, Length: 5502, dtype: int64"
            ]
          },
          "metadata": {
            "tags": []
          },
          "execution_count": 23
        }
      ]
    },
    {
      "cell_type": "code",
      "metadata": {
        "colab": {
          "base_uri": "https://localhost:8080/",
          "height": 52
        },
        "id": "GlrA4p5JAekC",
        "outputId": "c5e58cd0-39a1-4239-96fd-df2eec6097a6"
      },
      "source": [
        "X_train[969]"
      ],
      "execution_count": null,
      "outputs": [
        {
          "output_type": "execute_result",
          "data": {
            "application/vnd.google.colaboratory.intrinsic+json": {
              "type": "string"
            },
            "text/plain": [
              "'check-ins list life like cup coffee minutes kill meet friend nearby food decide check new epoch location things parkinge come coffee shop good ice coffee bitterness topochico clean comfortable place sit epoch take parkinge'"
            ]
          },
          "metadata": {
            "tags": []
          },
          "execution_count": 24
        }
      ]
    },
    {
      "cell_type": "code",
      "metadata": {
        "colab": {
          "base_uri": "https://localhost:8080/"
        },
        "id": "rv4fIcsZAzQT",
        "outputId": "94b65d39-27ac-4864-abc6-6f4a8143c4d4"
      },
      "source": [
        "sum(y_train==0)"
      ],
      "execution_count": null,
      "outputs": [
        {
          "output_type": "execute_result",
          "data": {
            "text/plain": [
              "587"
            ]
          },
          "metadata": {
            "tags": []
          },
          "execution_count": 25
        }
      ]
    },
    {
      "cell_type": "code",
      "metadata": {
        "id": "B32IPr3v_xKY"
      },
      "source": [
        "augmented_sentences=[]\n",
        "augmented_sentences_labels=[]\n",
        "for i in X_train.index:\n",
        "  if y_train[i]==0:\n",
        "    temps=aug.augment(X_train[i],n=2)\n",
        "    for sent in temps:\n",
        "      augmented_sentences.append(sent)\n",
        "      augmented_sentences_labels.append(0)\n",
        "\n",
        "\n"
      ],
      "execution_count": null,
      "outputs": []
    },
    {
      "cell_type": "code",
      "metadata": {
        "id": "-2RPG64uO88d"
      },
      "source": [
        "data=pd.read_csv(\"ratings_and_sentiments.csv\",encoding= 'unicode_escape')"
      ],
      "execution_count": null,
      "outputs": []
    },
    {
      "cell_type": "code",
      "metadata": {
        "colab": {
          "base_uri": "https://localhost:8080/"
        },
        "id": "y2Mmegs6PJFq",
        "outputId": "654cbc40-89f6-4a10-c105-9589b10fcb84"
      },
      "source": [
        "sorted([len(i) for i in data.loc[data['num_rating']==1]['review_text']])\n",
        "([i for i in data.loc[data['num_rating']==1]['review_text'] if len(i)==90])\n"
      ],
      "execution_count": null,
      "outputs": [
        {
          "output_type": "execute_result",
          "data": {
            "text/plain": [
              "[\" 7/30/2016 Misleading reviews. Worst coffee I've ever had, and sorely disappointing vibe. \"]"
            ]
          },
          "metadata": {
            "tags": []
          },
          "execution_count": 89
        }
      ]
    },
    {
      "cell_type": "code",
      "metadata": {
        "colab": {
          "base_uri": "https://localhost:8080/"
        },
        "id": "LxwcbVX6OA6k",
        "outputId": "f9a1074f-ac43-4bd5-e22e-cb5eebbe8b11"
      },
      "source": [
        "naw.SynonymAug(aug_src='wordnet',aug_max=2).augment(\"Misleading reviews. Worst coffee ever had, and sorely disappointing vibe.\",n=2)"
      ],
      "execution_count": null,
      "outputs": [
        {
          "output_type": "execute_result",
          "data": {
            "text/plain": [
              "['Misleading review article. Worst coffee ever get, and sorely disappointing vibe.',\n",
              " 'Lead astray reviews. Worst coffee ever had, and sorely dissatisfactory vibe.']"
            ]
          },
          "metadata": {
            "tags": []
          },
          "execution_count": 92
        }
      ]
    },
    {
      "cell_type": "code",
      "metadata": {
        "colab": {
          "base_uri": "https://localhost:8080/",
          "height": 35
        },
        "id": "iV88aYdsLNja",
        "outputId": "b21eb92d-bcbf-4e08-bfbf-241a200931e9"
      },
      "source": [
        "sorted([len(i) for i in data.loc[data['num_rating']==0]['review_text']])\n",
        "\n",
        "([i for i in data.loc[data['num_rating']==0]['review_text'] if len(i)==58])[1]\n"
      ],
      "execution_count": null,
      "outputs": [
        {
          "output_type": "execute_result",
          "data": {
            "application/vnd.google.colaboratory.intrinsic+json": {
              "type": "string"
            },
            "text/plain": [
              "'really terrible service shame first time come think return'"
            ]
          },
          "metadata": {
            "tags": []
          },
          "execution_count": 66
        }
      ]
    },
    {
      "cell_type": "code",
      "metadata": {
        "colab": {
          "base_uri": "https://localhost:8080/"
        },
        "id": "VS7UwR6COl4Z",
        "outputId": "e842cd32-5dfa-437f-8e82-9c55b6b7d53b"
      },
      "source": [
        "data['review_text'].loc[data['review_text']=='really terrible service shame first time come think return']"
      ],
      "execution_count": null,
      "outputs": [
        {
          "output_type": "execute_result",
          "data": {
            "text/plain": [
              "2548    really terrible service shame first time come ...\n",
              "Name: review_text, dtype: object"
            ]
          },
          "metadata": {
            "tags": []
          },
          "execution_count": 75
        }
      ]
    },
    {
      "cell_type": "code",
      "metadata": {
        "colab": {
          "base_uri": "https://localhost:8080/"
        },
        "id": "i3i-nOxFBavh",
        "outputId": "468dc1bc-0da5-4558-acb1-e0663674d7f1"
      },
      "source": [
        "X_train=X_train.append(pd.Series(augmented_sentences),ignore_index=True)\n",
        "y_train=y_train.append(pd.Series(augmented_sentences_labels),ignore_index=True)\n",
        "\n",
        "print(X_train.shape)\n",
        "print(y_train.shape)"
      ],
      "execution_count": null,
      "outputs": [
        {
          "output_type": "stream",
          "text": [
            "(6676,)\n",
            "(6676,)\n"
          ],
          "name": "stdout"
        }
      ]
    },
    {
      "cell_type": "code",
      "metadata": {
        "colab": {
          "base_uri": "https://localhost:8080/"
        },
        "id": "qzoZxr3HDo4X",
        "outputId": "e900f44e-eb5d-4a1b-9b3d-f24043c1ed76"
      },
      "source": [
        "vectorizer = TfidfVectorizer(min_df=3,analyzer='word',max_features=3000)\n",
        "X_train_vectorized = vectorizer.fit_transform(X_train)\n",
        "X_test_vectorized=vectorizer.transform(X_test)\n",
        "rf=RandomForestClassifier(n_estimators=10)\n",
        "\n",
        "rf.fit(X_train_vectorized,y_train)\n"
      ],
      "execution_count": null,
      "outputs": [
        {
          "output_type": "execute_result",
          "data": {
            "text/plain": [
              "RandomForestClassifier(bootstrap=True, ccp_alpha=0.0, class_weight=None,\n",
              "                       criterion='gini', max_depth=None, max_features='auto',\n",
              "                       max_leaf_nodes=None, max_samples=None,\n",
              "                       min_impurity_decrease=0.0, min_impurity_split=None,\n",
              "                       min_samples_leaf=1, min_samples_split=2,\n",
              "                       min_weight_fraction_leaf=0.0, n_estimators=10,\n",
              "                       n_jobs=None, oob_score=False, random_state=None,\n",
              "                       verbose=0, warm_start=False)"
            ]
          },
          "metadata": {
            "tags": []
          },
          "execution_count": 31
        }
      ]
    },
    {
      "cell_type": "code",
      "metadata": {
        "colab": {
          "base_uri": "https://localhost:8080/"
        },
        "id": "nqnjJ9fVD6_v",
        "outputId": "d470a168-6efe-40a1-9456-bb8262a70ab1"
      },
      "source": [
        "from sklearn.metrics import classification_report, confusion_matrix, accuracy_score\n",
        "\n",
        "y_train_pred=rf.predict(X_train_vectorized)\n",
        "\n",
        "\n",
        "print(confusion_matrix(y_train,y_train_pred))\n",
        "print(classification_report(y_train,y_train_pred))\n",
        "print(accuracy_score(y_train, y_train_pred))"
      ],
      "execution_count": null,
      "outputs": [
        {
          "output_type": "stream",
          "text": [
            "[[1761    0]\n",
            " [   3 4912]]\n",
            "              precision    recall  f1-score   support\n",
            "\n",
            "           0       1.00      1.00      1.00      1761\n",
            "           1       1.00      1.00      1.00      4915\n",
            "\n",
            "    accuracy                           1.00      6676\n",
            "   macro avg       1.00      1.00      1.00      6676\n",
            "weighted avg       1.00      1.00      1.00      6676\n",
            "\n",
            "0.9995506291192331\n"
          ],
          "name": "stdout"
        }
      ]
    },
    {
      "cell_type": "code",
      "metadata": {
        "colab": {
          "base_uri": "https://localhost:8080/"
        },
        "id": "51vfTNaND7ZV",
        "outputId": "6b204e18-956d-4e61-a433-6ad535ac7f49"
      },
      "source": [
        "y_pred=rf.predict(X_test_vectorized)\n",
        "print(confusion_matrix(y_test,y_pred))\n",
        "print(classification_report(y_test,y_pred))\n",
        "print(accuracy_score(y_test, y_pred))"
      ],
      "execution_count": null,
      "outputs": [
        {
          "output_type": "stream",
          "text": [
            "[[  70   81]\n",
            " [  25 1200]]\n",
            "              precision    recall  f1-score   support\n",
            "\n",
            "           0       0.74      0.46      0.57       151\n",
            "           1       0.94      0.98      0.96      1225\n",
            "\n",
            "    accuracy                           0.92      1376\n",
            "   macro avg       0.84      0.72      0.76      1376\n",
            "weighted avg       0.91      0.92      0.92      1376\n",
            "\n",
            "0.9229651162790697\n"
          ],
          "name": "stdout"
        }
      ]
    },
    {
      "cell_type": "code",
      "metadata": {
        "colab": {
          "base_uri": "https://localhost:8080/",
          "height": 606
        },
        "id": "SZGS0rY7Jv7Z",
        "outputId": "9eea840c-8923-4e86-d8af-3493b7cbff46"
      },
      "source": [
        "from sklearn.metrics import roc_curve\n",
        "\n",
        "# roc curve for models\n",
        "fpr, tpr, thresh = roc_curve(y_test, rf.predict_proba(X_test_vectorized)[:, 1], pos_label=1)\n",
        "# roc curve for tpr = fpr \n",
        "random_probs = [0 for i in range(len(y_test))]\n",
        "p_fpr, p_tpr, _ = roc_curve(y_test, random_probs, pos_label=1)\n",
        "plt.figure(figsize=(12,10))\n",
        "sns.lineplot(x=fpr,y=tpr,);\n",
        "\n",
        "plt.xlabel(\"False Positive Rate\");\n",
        "plt.ylabel(\"Sensitivity (TPR)\");\n"
      ],
      "execution_count": null,
      "outputs": [
        {
          "output_type": "display_data",
          "data": {
            "image/png": "[encoded data removed]",
            "text/plain": [
              "<Figure size 864x720 with 1 Axes>"
            ]
          },
          "metadata": {
            "tags": [],
            "needs_background": "light"
          }
        }
      ]
    },
    {
      "cell_type": "code",
      "metadata": {
        "colab": {
          "base_uri": "https://localhost:8080/"
        },
        "id": "1RSDXGVjD971",
        "outputId": "5656e252-8341-435f-a198-13a755b487f3"
      },
      "source": [
        "roc_auc_score(y_test, rf.predict_proba(X_test_vectorized)[:, 1])"
      ],
      "execution_count": null,
      "outputs": [
        {
          "output_type": "execute_result",
          "data": {
            "text/plain": [
              "0.8826625219624273"
            ]
          },
          "metadata": {
            "tags": []
          },
          "execution_count": 35
        }
      ]
    }
  ]
}